{
 "cells": [
  {
   "cell_type": "code",
   "execution_count": 69,
   "id": "953004af",
   "metadata": {},
   "outputs": [],
   "source": [
    "import pandas as pd\n",
    "import numpy as np\n",
    "from plotly import graph_objects as go\n",
    "from plotly import express as px\n",
    "from sklearn.impute import SimpleImputer\n",
    "from sklearn.pipeline import Pipeline\n",
    "from sklearn.model_selection import train_test_split\n",
    "from sklearn.preprocessing import StandardScaler\n",
    "from sklearn.linear_model import LogisticRegression\n",
    "import warnings\n",
    "warnings.filterwarnings('ignore')\n"
   ]
  },
  {
   "cell_type": "markdown",
   "id": "a23d44fb",
   "metadata": {},
   "source": [
    "# What Makes A Hobbiest Developer\n",
    "\n",
    "DataCamp.com is an online learning platform that teaches data science, data analytics and data engineering. They have found that hobbyist developers are more likely to sign up for paid verisons of their account. Their marketing team would like to know how they can get more conversions through their campaigns and find it practical to target hobbyist developers. Its the job of the Data Science team to figure out what are key indicators of a developer being a hobbyist. In this notebook I will go through what I have learned about EDA throughout my time as a data scientist. I will cover not only how to properly perform exploratory data analysis, but tips and tricks that I have picked up that can help improve your eda process.   "
   ]
  },
  {
   "cell_type": "markdown",
   "id": "1e1021ab",
   "metadata": {},
   "source": [
    "## The first tip is that the best exploratory data anaysis uses a model as a guide."
   ]
  },
  {
   "cell_type": "code",
   "execution_count": 70,
   "id": "bc5d7fe7",
   "metadata": {},
   "outputs": [],
   "source": [
    "df = pd.read_csv('data/cleaned.csv')"
   ]
  },
  {
   "cell_type": "code",
   "execution_count": 71,
   "id": "e8c965c5",
   "metadata": {},
   "outputs": [],
   "source": [
    "df['Hobbyist'] = df['Hobbyist'].map({'Yes': 1, 'No': 0})"
   ]
  },
  {
   "cell_type": "code",
   "execution_count": 72,
   "id": "9e8d5c91",
   "metadata": {},
   "outputs": [],
   "source": [
    "def filter_large(x):\n",
    "    if x > 10**9:\n",
    "        return np.nan\n",
    "    else: return x"
   ]
  },
  {
   "cell_type": "code",
   "execution_count": 73,
   "id": "983700df",
   "metadata": {},
   "outputs": [],
   "source": [
    "df['CompTotal'] = df['CompTotal'].apply(lambda x: filter_large(x))"
   ]
  },
  {
   "cell_type": "code",
   "execution_count": null,
   "id": "9df614b5",
   "metadata": {},
   "outputs": [],
   "source": []
  },
  {
   "cell_type": "code",
   "execution_count": 74,
   "id": "ccea3e4e",
   "metadata": {},
   "outputs": [],
   "source": [
    "X = df.drop('Hobbyist', axis=1)\n",
    "y = df['Hobbyist']"
   ]
  },
  {
   "cell_type": "code",
   "execution_count": 75,
   "id": "f5e8c40d",
   "metadata": {},
   "outputs": [],
   "source": [
    "x_train, x_test, y_train, y_test = train_test_split(X, y, test_size=0.25, random_state=1)"
   ]
  },
  {
   "cell_type": "code",
   "execution_count": 76,
   "id": "0cd7b4aa",
   "metadata": {},
   "outputs": [],
   "source": [
    "pipeline = Pipeline([\n",
    "    ('imputer', SimpleImputer()),\n",
    "    ('scaler', StandardScaler()),\n",
    "    ('classifier', LogisticRegression())\n",
    "])"
   ]
  },
  {
   "cell_type": "code",
   "execution_count": 77,
   "id": "722ccbb3",
   "metadata": {},
   "outputs": [],
   "source": [
    "_ = pipeline.fit(x_train, y_train)"
   ]
  },
  {
   "cell_type": "code",
   "execution_count": 78,
   "id": "1bf3e209",
   "metadata": {},
   "outputs": [],
   "source": [
    "feature_importances = list(zip(x_train.columns, pipeline['classifier'].coef_.flatten()))"
   ]
  },
  {
   "cell_type": "code",
   "execution_count": 79,
   "id": "2e9ef710",
   "metadata": {},
   "outputs": [],
   "source": [
    "sorted_importances = sorted(feature_importances, key=lambda x: np.abs(x[1]), reverse=True)"
   ]
  },
  {
   "cell_type": "code",
   "execution_count": 81,
   "id": "2e182baa",
   "metadata": {},
   "outputs": [],
   "source": [
    "top10 = sorted_importances[:10]"
   ]
  },
  {
   "cell_type": "code",
   "execution_count": 82,
   "id": "2fcbbb5f",
   "metadata": {},
   "outputs": [
    {
     "data": {
      "text/plain": [
       "[('YearsCodePro_isNaN', 0.3319055534725019),\n",
       " ('CompTotal_isNaN', 0.22271584803196362),\n",
       " ('Gender_is_Man', 0.21952824062415005),\n",
       " ('Age1stCode_isNaN', -0.21829288407836148),\n",
       " ('NEWLearn_Once every few years', -0.20903042189701704),\n",
       " ('YearsCodePro', -0.20113141276152552),\n",
       " ('ConvertedComp_isNaN', -0.19889551166545252),\n",
       " ('JobSeek_isNaN', 0.19104640575244272),\n",
       " ('LanguageWorkedWith_is_Rust', 0.18753355893358706),\n",
       " ('NEWOtherComms_Yes', 0.18076449684911963)]"
      ]
     },
     "execution_count": 82,
     "metadata": {},
     "output_type": "execute_result"
    }
   ],
   "source": [
    "top10"
   ]
  },
  {
   "cell_type": "code",
   "execution_count": null,
   "id": "2112a683",
   "metadata": {},
   "outputs": [],
   "source": []
  }
 ],
 "metadata": {
  "hide_input": false,
  "kernelspec": {
   "display_name": "Python 3 (ipykernel)",
   "language": "python",
   "name": "python3"
  },
  "language_info": {
   "codemirror_mode": {
    "name": "ipython",
    "version": 3
   },
   "file_extension": ".py",
   "mimetype": "text/x-python",
   "name": "python",
   "nbconvert_exporter": "python",
   "pygments_lexer": "ipython3",
   "version": "3.8.5"
  },
  "latex_envs": {
   "LaTeX_envs_menu_present": true,
   "autoclose": true,
   "autocomplete": true,
   "bibliofile": "biblio.bib",
   "cite_by": "apalike",
   "current_citInitial": 1,
   "eqLabelWithNumbers": true,
   "eqNumInitial": 1,
   "hotkeys": {
    "equation": "Ctrl-E",
    "itemize": "Ctrl-I"
   },
   "labels_anchors": false,
   "latex_user_defs": false,
   "report_style_numbering": false,
   "user_envs_cfg": false
  },
  "toc": {
   "base_numbering": 1,
   "nav_menu": {},
   "number_sections": true,
   "sideBar": true,
   "skip_h1_title": false,
   "title_cell": "Table of Contents",
   "title_sidebar": "Contents",
   "toc_cell": false,
   "toc_position": {},
   "toc_section_display": true,
   "toc_window_display": false
  }
 },
 "nbformat": 4,
 "nbformat_minor": 5
}
